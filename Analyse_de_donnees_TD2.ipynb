{
 "cells": [
  {
   "attachments": {},
   "cell_type": "markdown",
   "metadata": {},
   "source": [
    "# Cours d'analyse de données \n",
    "\n",
    "\n",
    "## TD 2 \n",
    "Pour compléter ce TD vous avez besoin une installation locale d'un compilateur de langage Python i.e (Anaconda, Vscode) car les données du fil chaud sont trop lourdes pour être compilées en ligne. \n",
    "\n",
    "Pour compiler sur ce notebook, installez le package: [Jupyter](https://jupyter.org/install) ou le [SpyderNotebook](https://docs.spyder-ide.org/current/plugins/notebook.html) si vous utilisez Spyder. Cela vous permettra d'ouvrir et de modifier des ficher avec une extension .ipynb. \n",
    "Si l'installation de package notebook ne fonctionne pas, il est toujours possible de rendre un code python .py \n",
    "\n",
    "\n",
    "Il se peut que vous deviez aussi installer les libraries suivantes: [numpy](https://numpy.org/install/), [matplotlib](https://matplotlib.org/stable/users/installing/index.html), [pandas](https://pandas.pydata.org/docs/getting_started/install.html).\n",
    " \n",
    "Pour compiler une cellule, appuyez sur shift+enter\n",
    "\n",
    "***\n",
    "\n",
    "Le TD ainsi qu'un compte rendu (2-3p) vous seront demandés. Les questions du TD vous guideront pour obtenir les résultats que vous allez montrer et discuter dans le compte rendu. Le TD et le compte rendu seront notés séparément. Le TD est a m'envoyer avant le 29/03/2023 23:59 et le compte rendu avant le 05/04/2023 23:59. \n",
    "\n",
    "\n",
    "### Barème:\n",
    "- Le nombre de points par question est écris entre parenthèse à la fin de chaque question ( Partie I: 10 points, Partie II A: 13 points, Partie II B: 10 points)\n",
    "- 5 points sur la lisibilité du code (commentaires, espacement consistant, nom de variable cohérent)\n",
    "\n",
    "\n",
    "\n",
    "\n",
    "***\n",
    "\n",
    "\n",
    "\n"
   ]
  },
  {
   "attachments": {},
   "cell_type": "markdown",
   "metadata": {},
   "source": [
    "\n",
    "### Part I: Conversion des mesures  \n",
    "\n",
    "**Etape 1 Conversion des mesures de pression en vitesse**   &emsp;  (2)\n",
    "\n",
    "a. Créé un vecteur qui contient les données de difference de pression mesurées avec le pitot pendant l'étape de calibration. \n",
    " \n",
    "b. Convertis ces pressions en vitesses et affiche ces dernières. \n",
    "\n",
    "Souviens toi du cours de dynamique des fluides ;)\n",
    "\n",
    ">**HINT**: Utilise le package [Numpy](https://numpy.org/)."
   ]
  },
  {
   "cell_type": "code",
   "execution_count": null,
   "metadata": {},
   "outputs": [],
   "source": []
  },
  {
   "attachments": {},
   "cell_type": "markdown",
   "metadata": {},
   "source": [
    "**Etape 2 Etude des données de tension du fil chaud mesurées pendant l'étape de calibration**  &emsp;  (4)\n",
    "\n",
    "a. Lis le fichier TDMS qui contient les tensions (en volt) mesurées par le fil chaud pendant l'étape de calibration.\n",
    "\n",
    "b. Affiche les different noms de groupes du fichier TDMS. A quoi correspondent-ils?\n",
    "\n",
    "c. Affiche les differentes channels appartenant au premier groupe. Que representent-elles? \n",
    "\n",
    "d. Créé une boucle qui pour chaque groupe, convertis les données en dataframe et sauvegarde la tension moyenne dans une liste. Convertis cette liste en dataframe pour une meilleure visibilité et affiche cette dernière. Commente brièvement les données. \n",
    "\n",
    ">**HINT**: Utilise les packages [npTDMS](https://pypi.org/project/npTDMS/)  et [pandas](https://pandas.pydata.org/)"
   ]
  },
  {
   "cell_type": "code",
   "execution_count": null,
   "metadata": {},
   "outputs": [],
   "source": []
  },
  {
   "attachments": {},
   "cell_type": "markdown",
   "metadata": {},
   "source": [
    "**Etape 3 Courbe d'étalonnage** &emsp;  (4)\n",
    "\n",
    "La courbe d'étalonnage U = f(E) est un polynome de degré 4. Un example est affiché sur l'image ci-dessous.\n",
    "\n",
    "a. Fit les données en utilisant la fonction [polyfit](https://numpy.org/doc/stable/reference/generated/numpy.polyfit.html) \n",
    "\n",
    "b. Affiche les constantes de calibration. \n",
    "\n",
    "c. Créé un graphique qui affiche les vitesses sur l'axe x et les tensison sur l'axe y, ainsi que le polynome de degré 4 calculé en a.\n",
    "\n",
    "\n",
    "![fit](calibration_fitting_example.PNG)\n",
    "\n",
    ">**HINT**: Utilise les packages [Numpy](https://numpy.org/), [Matplotlib](https://matplotlib.org/)"
   ]
  },
  {
   "cell_type": "code",
   "execution_count": null,
   "metadata": {},
   "outputs": [],
   "source": []
  },
  {
   "attachments": {},
   "cell_type": "markdown",
   "metadata": {},
   "source": [
    ">**Question bonus**: Sur un graphique montre que les données suivent la loi de King.  (2)"
   ]
  },
  {
   "cell_type": "code",
   "execution_count": null,
   "metadata": {},
   "outputs": [],
   "source": []
  },
  {
   "attachments": {},
   "cell_type": "markdown",
   "metadata": {},
   "source": [
    "### Part II Analyse de données \n",
    "\n",
    "#### A. Données sans cylindre"
   ]
  },
  {
   "attachments": {},
   "cell_type": "markdown",
   "metadata": {},
   "source": [
    "**Etape 1**  (3)\n",
    "\n",
    "a. Lis le fichier TDMS qui contient les données de tension acquises pendant l'étape de mesure collecté sans le cylindre, et convertis le fichier en dataframe.\n",
    "\n",
    "b. La frequence d'acquisition du système est de 30 kHz. Ajoute une colonne \"temps (s)\" dans la dataframe, puis convertis cette colonne en index de la dataframe.\n",
    "\n",
    "c. Affiche les données de tension dans un graph.\n"
   ]
  },
  {
   "cell_type": "code",
   "execution_count": null,
   "metadata": {},
   "outputs": [],
   "source": []
  },
  {
   "attachments": {},
   "cell_type": "markdown",
   "metadata": {},
   "source": [
    "**Etape 2**  (2)\n",
    "\n",
    "\n",
    "a. Convertis les measures de tension en vitesse. Pour cela insère les données de tension dans la fonction de transfert (polynome de degré 4 determiné à la partie I.3). \n",
    "\n",
    ">**HINT**: Utilise les packages [npTDMS](https://pypi.org/project/npTDMS/)  et [pandas](https://pandas.pydata.org/)\n",
    "\n",
    "\n",
    "b. Créé un graphique qui affiche la vitesse en fonction du temps \n",
    "\n",
    "(N'oublie pas de nommer les axes, donner un titre .. )\n",
    "\n",
    ">**Hint**: Utilise le package [Matplotlib](https://matplotlib.org/stable/users/index)"
   ]
  },
  {
   "cell_type": "code",
   "execution_count": null,
   "metadata": {},
   "outputs": [],
   "source": []
  },
  {
   "attachments": {},
   "cell_type": "markdown",
   "metadata": {},
   "source": [
    "\n",
    "**Etape 3.** (4)\n",
    "\n",
    "Affiche les données suivantes: \n",
    "\n",
    "a. La vitesse moyenne.\n",
    "\n",
    "b. L'écart type.\n",
    "\n",
    "c. La variance. \n",
    "\n",
    "d. Le taux de turbulence.\n",
    "\n",
    "(N'oublie pas les unités)"
   ]
  },
  {
   "cell_type": "code",
   "execution_count": null,
   "metadata": {},
   "outputs": [],
   "source": []
  },
  {
   "attachments": {},
   "cell_type": "markdown",
   "metadata": {},
   "source": [
    "**Etape 4 Etude spectrale**  (4)\n",
    "\n",
    "a. Soustrait la moyenne du signal (detrend).\n",
    "\n",
    "b. Determine le Power Spectral Density (PSD) ([Welch](https://docs.scipy.org/doc/scipy/reference/generated/scipy.signal.welch.html) est une bonne option).\n",
    "\n",
    "c. Créé un graph qui montre le PSD en fonction de la frequence, en echelle loglog.\n",
    "\n",
    "d. Sur ce même graph, affiche la pente de -5/3 (Komolgorov decay)\n",
    "\n",
    ">**HINT**: Utilise le package [Scipy](https://scipy.org/)"
   ]
  },
  {
   "cell_type": "code",
   "execution_count": null,
   "metadata": {},
   "outputs": [],
   "source": []
  },
  {
   "attachments": {},
   "cell_type": "markdown",
   "metadata": {},
   "source": [
    "#### B. Données avec Cylindre \n",
    " \n",
    "**1.** Répètes les étape de la partie II A pour les données mesurées avec le cylindre. (6)\n",
    "\n",
    "**2.** Sachant que le cylindre a un diamètre d = 12.55 mm.  Utilise le nombre de Strouhal pour trouver la fréquence d'emission des tourbillons. (2)\n",
    "\n",
    "**3.** Compare les résultats des parties A et B et commente ces derniers. (2)\n",
    "\n"
   ]
  },
  {
   "cell_type": "code",
   "execution_count": null,
   "metadata": {},
   "outputs": [],
   "source": []
  }
 ],
 "metadata": {
  "kernelspec": {
   "display_name": "envmj1",
   "language": "python",
   "name": "python3"
  },
  "language_info": {
   "codemirror_mode": {
    "name": "ipython",
    "version": 3
   },
   "file_extension": ".py",
   "mimetype": "text/x-python",
   "name": "python",
   "nbconvert_exporter": "python",
   "pygments_lexer": "ipython3",
   "version": "3.11.1"
  },
  "orig_nbformat": 4,
  "vscode": {
   "interpreter": {
    "hash": "6de231093517936bab6932442f6a441e17f23a1076e1cd72c3d6dd30a5659bc6"
   }
  }
 },
 "nbformat": 4,
 "nbformat_minor": 2
}
