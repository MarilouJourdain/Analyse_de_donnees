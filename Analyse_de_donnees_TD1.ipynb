{
  "metadata": {
    "language_info": {
      "codemirror_mode": {
        "name": "python",
        "version": 3
      },
      "file_extension": ".py",
      "mimetype": "text/x-python",
      "name": "python",
      "nbconvert_exporter": "python",
      "pygments_lexer": "ipython3",
      "version": "3.8"
    },
    "kernelspec": {
      "name": "python",
      "display_name": "Python (Pyodide)",
      "language": "python"
    }
  },
  "nbformat_minor": 4,
  "nbformat": 4,
  "cells": [
    {
      "cell_type": "markdown",
      "source": "# Cours d'analyse de données \nGM3\n\n23/02/2023\n## TD 1 \n### Part I: Python rappels ",
      "metadata": {}
    },
    {
      "cell_type": "markdown",
      "source": "**Exercice 1** .... réflechir a des exos \n",
      "metadata": {}
    },
    {
      "cell_type": "code",
      "source": "",
      "metadata": {},
      "execution_count": null,
      "outputs": []
    },
    {
      "cell_type": "code",
      "source": "",
      "metadata": {},
      "execution_count": null,
      "outputs": []
    },
    {
      "cell_type": "code",
      "source": "",
      "metadata": {},
      "execution_count": null,
      "outputs": []
    },
    {
      "cell_type": "code",
      "source": "",
      "metadata": {},
      "execution_count": null,
      "outputs": []
    },
    {
      "cell_type": "markdown",
      "source": "## Part II: Etudier les données d'un anémometre à ultrason \n\nL'anemometre à ultrason enregistre les variables U, V, W à une fréquence de 25Hz. \n\n\n**1.** Créer un graphique qui montre les variables U, V, W en fonction du temps. \n> **Hint**: Utilise Matplotlib\n\n",
      "metadata": {}
    },
    {
      "cell_type": "code",
      "source": "",
      "metadata": {},
      "execution_count": null,
      "outputs": []
    },
    {
      "cell_type": "markdown",
      "source": "**2.** Affiche à l'écran les données suivantes: \n\n**a.** Les moyennes en U, V et W. \n\n**b.** L'écart type en U,V, et W. \n\n**c.** Le taux de Turbulence ",
      "metadata": {}
    },
    {
      "cell_type": "code",
      "source": "",
      "metadata": {},
      "execution_count": null,
      "outputs": []
    }
  ]
}