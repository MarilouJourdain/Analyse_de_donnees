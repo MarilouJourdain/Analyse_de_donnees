{
 "cells": [
  {
   "attachments": {},
   "cell_type": "markdown",
   "metadata": {},
   "source": [
    "# Cours d'analyse de données \n",
    "GM3\n",
    "\n",
    "Pour compléter ce TD vous avez le choix entre plusieurs options:\n",
    "- Si vous avez une installation locale d'un compilateur de langage Python i.e (Anaconda, Vscode), télechargez le notebook en cliquant sur \"download\" et modifiez/compilez le fichier localement. \n",
    "- Si vous n'avez pas d'installation locale, faite une copie de ce ficher dans le binder, avec vos initiales, et modifiez/compilez votre fichier en ligne.\n",
    " \n",
    "\n",
    "## TD 1 \n",
    "23/03/2023\n",
    "### Part I: Python rappels "
   ]
  },
  {
   "attachments": {},
   "cell_type": "markdown",
   "metadata": {},
   "source": [
    "Exercice 1. Créer un programme simule un jeux de fléchettes. Le programme affiche la cible et les flechettes qui ont été lancées. Le programme compte aussi le nombre de points en fonction de la position de la flechette par rapport à la cible."
   ]
  },
  {
   "attachments": {},
   "cell_type": "markdown",
   "metadata": {},
   "source": [
    "**Etape 1**: Ecris une function qui permet de demander à l'utilisateur combien il possède de flechettes. Teste la fonction et affiche la réponse à l'écran. \n"
   ]
  },
  {
   "cell_type": "code",
   "execution_count": null,
   "metadata": {},
   "outputs": [],
   "source": []
  },
  {
   "attachments": {},
   "cell_type": "markdown",
   "metadata": {},
   "source": [
    "**Etape 2**: Ecris une fonction qui permet de définir la cible. On considère que la cible est un cercle de centre (xo, yo) et de rayon r.\n",
    "\n",
    "Teste cette fonction.\n",
    "\n",
    "> **Hint**:  Utlise le package [numpy](https://numpy.org/doc/stable/user/absolute_beginners.html)\n",
    "\n",
    ">**Hint**: Souviens toi du cours de Maths B ;)"
   ]
  },
  {
   "cell_type": "code",
   "execution_count": null,
   "metadata": {},
   "outputs": [],
   "source": []
  },
  {
   "attachments": {},
   "cell_type": "markdown",
   "metadata": {},
   "source": [
    "**Etape 3**: Ecris une fonction qui permet d'afficher la cible. En d'autres termes, écris une fonction qui appelle la fonction de l'étape 2 et plot le cercle.\n",
    ">**Hint**: Utilise le package [Matplotlib](https://matplotlib.org/stable/users/index)"
   ]
  },
  {
   "cell_type": "code",
   "execution_count": null,
   "metadata": {},
   "outputs": [],
   "source": [
    "\n"
   ]
  },
  {
   "attachments": {},
   "cell_type": "markdown",
   "metadata": {},
   "source": [
    "**Etape 4:** Ecris une fonction qui prend en entrée les coordonnées d'une flechette, ainsi que les parametres de la cible et qui perfome les actions suivantes:\n",
    "1) Compte les points, i.e +1 si la flechette est à l'interieur de la cible, sinon le score reste le meme.\n",
    "2) Retourne une liste qui contient les coordonnées de la flechette ainsi que la couleur verte si la flechette est dans la cible, ou la couleur noire si la flechette est en dehors de la cible. \n",
    "\n",
    "Teste ta fonction pour un lancé de flechette. "
   ]
  },
  {
   "cell_type": "code",
   "execution_count": null,
   "metadata": {},
   "outputs": [],
   "source": []
  },
  {
   "attachments": {},
   "cell_type": "markdown",
   "metadata": {},
   "source": [
    "**Etape 5**: On considere que le joueur a autant de chance de lancer sa flechette n'importe ou, dans un carré de 0.5m de coté autour du centre de la cible. \n",
    "Ecris une fonction qui prend en entré le nombre de flechettes, et simule des lancés random. La fonction appelle ensuite la fonction écrite a l'étape 4 pour compter les points. \n",
    ">**Hint**: Utilise le package [random](https://docs.python.org/3/library/random.html)\n",
    "\n",
    ">**Hint**: Appelle la fonction compteur écrite à l'étape 4 à l'interieur de ta fonction\n"
   ]
  },
  {
   "cell_type": "code",
   "execution_count": null,
   "metadata": {},
   "outputs": [],
   "source": [
    "\n"
   ]
  },
  {
   "attachments": {},
   "cell_type": "markdown",
   "metadata": {},
   "source": [
    "**Etape 6**: Affiche les lancés de flechette dans un graph contenant, la cible, les lancés réussis en vert et les lancés ratés en noir"
   ]
  },
  {
   "cell_type": "code",
   "execution_count": null,
   "metadata": {},
   "outputs": [],
   "source": [
    "\n"
   ]
  },
  {
   "attachments": {},
   "cell_type": "markdown",
   "metadata": {},
   "source": [
    "## Part II: Etudier les données d'un anémometre à ultrason \n",
    "\n",
    "L'anemometre à ultrason enregistre les variables U, V, W en m/s à une fréquence de 32Hz. Des données ont été mesurées en face du WindShaper, étudie ces données.\n",
    "\n",
    "(Pour info, la datasheet de l'anemometre peut etre téléchargée [ici](https://gillinstruments.com/wp-content/uploads/2022/08/WindMaster-Pro-iss-8.pdf))\n",
    "\n",
    "**Etape 1**: Importe les donnée du fichier \"anemometer_data_TD1.csv\" et affiche (print) les données.\n",
    "\n",
    ">**HINT**: Utilise le package [pandas](https://pandas.pydata.org/docs/reference/api/pandas.DataFrame.to_csv.html) \n",
    "\n"
   ]
  },
  {
   "cell_type": "code",
   "execution_count": null,
   "metadata": {},
   "outputs": [],
   "source": []
  },
  {
   "attachments": {},
   "cell_type": "markdown",
   "metadata": {},
   "source": [
    "**1.** Créer un graphique qui affiche les variables U, V, W en fonction du temps. \n",
    "\n",
    "(N'oublie pas de nommer les axes, donner un titre, afficher la légende \n",
    "\n",
    ">**Hint**: Utilise le package [Matplotlib](https://matplotlib.org/stable/users/index)\n"
   ]
  },
  {
   "cell_type": "code",
   "execution_count": null,
   "metadata": {},
   "outputs": [],
   "source": []
  },
  {
   "attachments": {},
   "cell_type": "markdown",
   "metadata": {},
   "source": [
    "**2.** Affiche à l'écran les données suivantes: \n",
    "\n",
    "**a.** Les moyennes en U, V et W. \n",
    "\n",
    "**b.** L'écart type en U, V et W. \n",
    "\n",
    "**c.** Le taux de turbulence "
   ]
  },
  {
   "cell_type": "code",
   "execution_count": null,
   "metadata": {},
   "outputs": [],
   "source": []
  }
 ],
 "metadata": {
  "kernelspec": {
   "display_name": "envmj1",
   "language": "python",
   "name": "python3"
  },
  "language_info": {
   "codemirror_mode": {
    "name": "ipython",
    "version": 3
   },
   "file_extension": ".py",
   "mimetype": "text/x-python",
   "name": "python",
   "nbconvert_exporter": "python",
   "pygments_lexer": "ipython3",
   "version": "3.11.1"
  },
  "vscode": {
   "interpreter": {
    "hash": "6de231093517936bab6932442f6a441e17f23a1076e1cd72c3d6dd30a5659bc6"
   }
  }
 },
 "nbformat": 4,
 "nbformat_minor": 4
}
